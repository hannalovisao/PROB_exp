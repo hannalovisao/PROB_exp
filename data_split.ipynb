{
 "cells": [
  {
   "cell_type": "code",
   "execution_count": 3,
   "metadata": {},
   "outputs": [
    {
     "name": "stdout",
     "output_type": "stream",
     "text": [
      "Requirement already satisfied: zod in /home/hannalukas/miniconda3/envs/prob/lib/python3.10/site-packages (0.3.7)\n",
      "Requirement already satisfied: dataclass-wizard>=0.22.2 in /home/hannalukas/miniconda3/envs/prob/lib/python3.10/site-packages (from zod) (0.22.3)\n",
      "Requirement already satisfied: h5py>=3.1 in /home/hannalukas/miniconda3/envs/prob/lib/python3.10/site-packages (from zod) (3.10.0)\n",
      "Requirement already satisfied: numpy<2.0,>=1.19 in /home/hannalukas/miniconda3/envs/prob/lib/python3.10/site-packages (from zod) (1.26.4)\n",
      "Requirement already satisfied: numpy-quaternion>=2022.4.2 in /home/hannalukas/miniconda3/envs/prob/lib/python3.10/site-packages (from zod) (2023.0.3)\n",
      "Requirement already satisfied: pillow>=7 in /home/hannalukas/miniconda3/envs/prob/lib/python3.10/site-packages (from zod) (10.2.0)\n",
      "Requirement already satisfied: pyquaternion>=0.9 in /home/hannalukas/miniconda3/envs/prob/lib/python3.10/site-packages (from zod) (0.9.9)\n",
      "Requirement already satisfied: scipy<2.0,>=1.5 in /home/hannalukas/miniconda3/envs/prob/lib/python3.10/site-packages (from zod) (1.12.0)\n",
      "Requirement already satisfied: tqdm>=4.60 in /home/hannalukas/miniconda3/envs/prob/lib/python3.10/site-packages (from zod) (4.64.1)\n",
      "Note: you may need to restart the kernel to use updated packages.\n"
     ]
    }
   ],
   "source": [
    "pip install zod"
   ]
  },
  {
   "cell_type": "code",
   "execution_count": 4,
   "metadata": {},
   "outputs": [
    {
     "name": "stderr",
     "output_type": "stream",
     "text": [
      "/home/hannalukas/miniconda3/envs/prob/lib/python3.10/site-packages/tqdm/auto.py:22: TqdmWarning: IProgress not found. Please update jupyter and ipywidgets. See https://ipywidgets.readthedocs.io/en/stable/user_install.html\n",
      "  from .autonotebook import tqdm as notebook_tqdm\n",
      "Loading infos: 100000it [00:16, 6105.51it/s]\n"
     ]
    }
   ],
   "source": [
    "%load_ext autoreload\n",
    "%autoreload 2\n",
    "import sys\n",
    "\n",
    "sys.path.append(\"../\")\n",
    "\n",
    "# imports for plotting\n",
    "from matplotlib import pyplot as plt\n",
    "\n",
    "%matplotlib inline\n",
    "plt.rcParams[\"figure.figsize\"] = [20, 10]\n",
    "\n",
    "# import the ZOD DevKit\n",
    "from zod import ZodFrames\n",
    "from zod import ZodSequences\n",
    "\n",
    "# import default constants\n",
    "import zod.constants as constants\n",
    "from zod.constants import Camera, Lidar, Anonymization, AnnotationProject\n",
    "\n",
    "# import useful data classes\n",
    "from zod.data_classes import LidarData\n",
    "\n",
    "# NOTE! Set the path to dataset and choose a version\n",
    "dataset_root = \"/mnt/ml-data-storage/jens/zod\"\n",
    "version = \"full\"  # \"mini\" or \"full\"\n",
    "\n",
    "# initialize ZodFrames\n",
    "zod_frames = ZodFrames(dataset_root=dataset_root, version=version)"
   ]
  },
  {
   "cell_type": "markdown",
   "metadata": {},
   "source": [
    "# Train Test Split"
   ]
  },
  {
   "cell_type": "code",
   "execution_count": 5,
   "metadata": {},
   "outputs": [
    {
     "name": "stdout",
     "output_type": "stream",
     "text": [
      "Number of training frames: 89972\n",
      "Number of validation frames: 10023\n",
      "The 5 first training frames have the ids: ['000000', '000002', '000003', '000004', '000005']\n"
     ]
    }
   ],
   "source": [
    "# get default training and validation splits 90/10 \n",
    "training_frames = zod_frames.get_split(constants.TRAIN)\n",
    "validation_frames = zod_frames.get_split(constants.VAL)\n",
    "\n",
    "# print the number of training and validation frames\n",
    "print(f\"Number of training frames: {len(training_frames)}\")\n",
    "print(f\"Number of validation frames: {len(validation_frames)}\")\n",
    "\n",
    "# print out the first 5 training frames\n",
    "print(\"The 5 first training frames have the ids:\", sorted(list(training_frames))[:5])\n"
   ]
  },
  {
   "cell_type": "code",
   "execution_count": 6,
   "metadata": {},
   "outputs": [],
   "source": [
    "#Saving test frames to txt file \n",
    "file_path = '/home/hannalukas/PROB/PROB_exp/data/OWOD/ImageSets/ZOD/zod_all_task_test.txt'\n",
    "\n",
    "# Writing the frame IDs to the file\n",
    "with open(file_path, 'w') as file:\n",
    "    for frame_id in validation_frames:\n",
    "        file.write(f\"{frame_id}\\n\")"
   ]
  },
  {
   "cell_type": "markdown",
   "metadata": {},
   "source": [
    "# Class frequencies"
   ]
  },
  {
   "cell_type": "code",
   "execution_count": null,
   "metadata": {},
   "outputs": [],
   "source": [
    "dynamic_classes = [\"Car\", \"Van\", \"Truck\", \"Animal\", \"Trailer\", \"Bus\", \"HeavyEquip\", \"Wheelchair\", \"TramTrain\", \"Bicycle\", \"Motorcycle\", \"Stroller\", \"PersonalTransporter\", \"Pedestrian\"]\n",
    "\n",
    "# Initialize a dictionary to count the frequency of each class\n",
    "class_frequency = {class_name: 0 for class_name in dynamic_classes}\n",
    "\n",
    "for frame in zod_frames: \n",
    "    print(frame.metadata.frame_id)\n",
    "    annotations = frame.get_annotation(AnnotationProject.OBJECT_DETECTION)\n",
    "    class_names = [annotation.object_type for annotation in annotations]\n",
    "\n",
    "    #Update the counts \n",
    "    for class_name in class_names:\n",
    "        if class_name in class_frequency:\n",
    "            class_frequency[class_name] += 1"
   ]
  },
  {
   "cell_type": "code",
   "execution_count": 35,
   "metadata": {},
   "outputs": [
    {
     "data": {
      "text/plain": [
       "[('Car', 1208474),\n",
       " ('Pedestrian', 359177),\n",
       " ('Bicycle', 124122),\n",
       " ('Van', 115042),\n",
       " ('Truck', 78795),\n",
       " ('Motorcycle', 32197),\n",
       " ('PersonalTransporter', 28490),\n",
       " ('Bus', 25802),\n",
       " ('TramTrain', 13576),\n",
       " ('Trailer', 4887),\n",
       " ('Stroller', 4199),\n",
       " ('HeavyEquip', 4021),\n",
       " ('Animal', 3439),\n",
       " ('Wheelchair', 467)]"
      ]
     },
     "execution_count": 35,
     "metadata": {},
     "output_type": "execute_result"
    }
   ],
   "source": [
    "sorted(class_frequency.items(), key=lambda x: x[1], reverse=True)"
   ]
  },
  {
   "cell_type": "markdown",
   "metadata": {},
   "source": [
    "# Splitting the data\n",
    "\n",
    "* No overlap of images between tasks \n",
    "* No instances of subsequent classes in the task"
   ]
  },
  {
   "cell_type": "code",
   "execution_count": 46,
   "metadata": {},
   "outputs": [],
   "source": [
    "T1_classes = [\n",
    "    \"Car\", \"Pedestrian\", \"Bicycle\", \"Van\"\n",
    "    ]\n",
    "\n",
    "T2_classes = [\n",
    "    \"Truck\", \"Trailer\"\n",
    "]\n",
    "\n",
    "T3_classes = [\n",
    "    \"TramTrain\", \"Motorcycle\", \"Stroller\", \"HeavyEquip\"\n",
    "]\n",
    "\n",
    "T4_classes = [\n",
    "    \"Bus\", \"PersonalTransporter\", \"Animal\", \"Wheelchair\"\n",
    "]\n",
    "\n",
    "t1_train = []\n",
    "t2_train = []\n",
    "t3_train = []\n",
    "t4_train = []"
   ]
  },
  {
   "cell_type": "markdown",
   "metadata": {},
   "source": [
    "Appending to t1_train\n",
    "* Append images from the training set \n",
    "* Append images that dont conatin classes from T2 T3 or T4 \n",
    "* Append images that contain at least one object from T1"
   ]
  },
  {
   "cell_type": "code",
   "execution_count": null,
   "metadata": {},
   "outputs": [],
   "source": [
    "training_frames = list(training_frames) \n",
    "\n",
    "excluded_classes = T2_classes + T3_classes + T4_classes\n",
    "\n",
    "# For the zod frames that are in the training frames, only append images to t1_train if it does not contain classes T2, T3, T4 but contains at least one class from T1\n",
    "for frame in zod_frames: \n",
    "    print(frame.metadata.frame_id)\n",
    "    if frame.metadata.frame_id in training_frames:\n",
    "        annotations = frame.get_annotation(AnnotationProject.OBJECT_DETECTION)\n",
    "        class_names = [annotation.object_type for annotation in annotations]\n",
    "\n",
    "        # Check for inclusion of T1_classes and exclusion of excluded_classes\n",
    "        if any(item in T1_classes for item in class_names) and not any(item in excluded_classes for item in class_names):\n",
    "            t1_train.append(frame.metadata.frame_id)\n"
   ]
  },
  {
   "cell_type": "code",
   "execution_count": 62,
   "metadata": {},
   "outputs": [
    {
     "name": "stdout",
     "output_type": "stream",
     "text": [
      "Number of training frames in T1:  30413 \n",
      "Total number of training frames:  89972\n"
     ]
    }
   ],
   "source": [
    "print(\"Number of training frames in T1: \", len(t1_train), \"\\nTotal number of training frames: \", len(training_frames))"
   ]
  },
  {
   "cell_type": "code",
   "execution_count": 54,
   "metadata": {},
   "outputs": [],
   "source": [
    "# Save training frames to txt file\n",
    "\n",
    "file_path = '/home/hannalukas/PROB/PROB_exp/data/OWOD/ImageSets/ZOD/zod_t1_train.txt'\n",
    "\n",
    "# Writing the frame IDs to the file\n",
    "with open(file_path, 'w') as file:\n",
    "    for frame_id in t1_train:\n",
    "        file.write(f\"{frame_id}\\n\")"
   ]
  },
  {
   "cell_type": "markdown",
   "metadata": {},
   "source": [
    "Appending to t2_train\n",
    "* Exlude images from t1_train\n",
    "* Append images that dont conatin classes from T3 or T4\n",
    "* Append images that conatin at least one object from T2 "
   ]
  },
  {
   "cell_type": "code",
   "execution_count": null,
   "metadata": {},
   "outputs": [],
   "source": []
  }
 ],
 "metadata": {
  "kernelspec": {
   "display_name": "prob",
   "language": "python",
   "name": "python3"
  },
  "language_info": {
   "codemirror_mode": {
    "name": "ipython",
    "version": 3
   },
   "file_extension": ".py",
   "mimetype": "text/x-python",
   "name": "python",
   "nbconvert_exporter": "python",
   "pygments_lexer": "ipython3",
   "version": "3.10.4"
  }
 },
 "nbformat": 4,
 "nbformat_minor": 2
}
